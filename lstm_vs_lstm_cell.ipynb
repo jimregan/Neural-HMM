{
 "cells": [
  {
   "cell_type": "code",
   "execution_count": 1,
   "metadata": {},
   "outputs": [],
   "source": [
    "import torch\n",
    "import torch.nn as nn"
   ]
  },
  {
   "cell_type": "code",
   "execution_count": 7,
   "metadata": {},
   "outputs": [],
   "source": [
    "lstm_cell = nn.LSTMCell(2, 10)\n",
    "lstm = nn.LSTM(2, 10, batch_first=True)"
   ]
  },
  {
   "cell_type": "code",
   "execution_count": 8,
   "metadata": {},
   "outputs": [
    {
     "name": "stdout",
     "output_type": "stream",
     "text": [
      "LSTM Cell\n",
      "torch.Size([40, 2])\n",
      "torch.Size([40, 10])\n",
      "torch.Size([40])\n",
      "torch.Size([40])\n",
      "LSTM\n",
      "torch.Size([40, 2])\n",
      "torch.Size([40, 10])\n",
      "torch.Size([40])\n",
      "torch.Size([40])\n"
     ]
    }
   ],
   "source": [
    "print(\"LSTM Cell\")\n",
    "for param in lstm_cell.parameters():\n",
    "    print(param.shape)\n",
    "    param.data.fill_(1)\n",
    "\n",
    "    \n",
    "print(\"LSTM\")\n",
    "for param in lstm.parameters():\n",
    "    print(param.shape)\n",
    "    param.data.fill_(1)"
   ]
  },
  {
   "cell_type": "code",
   "execution_count": 9,
   "metadata": {},
   "outputs": [],
   "source": [
    "t = torch.randn(1, 1, 2)"
   ]
  },
  {
   "cell_type": "code",
   "execution_count": 19,
   "metadata": {},
   "outputs": [],
   "source": [
    "o1, (h1, c1) = lstm(t)"
   ]
  },
  {
   "cell_type": "code",
   "execution_count": 20,
   "metadata": {},
   "outputs": [
    {
     "data": {
      "text/plain": [
       "(torch.Size([1, 1, 10]), torch.Size([1, 1, 10]), torch.Size([1, 1, 10]))"
      ]
     },
     "execution_count": 20,
     "metadata": {},
     "output_type": "execute_result"
    }
   ],
   "source": [
    "o1.shape, h1.shape, c1.shape"
   ]
  },
  {
   "cell_type": "code",
   "execution_count": 21,
   "metadata": {},
   "outputs": [],
   "source": [
    "o2, h2 = lstm_cell(t[:, 0])"
   ]
  },
  {
   "cell_type": "code",
   "execution_count": 22,
   "metadata": {},
   "outputs": [
    {
     "data": {
      "text/plain": [
       "(torch.Size([1, 10]), torch.Size([1, 10]))"
      ]
     },
     "execution_count": 22,
     "metadata": {},
     "output_type": "execute_result"
    }
   ],
   "source": [
    "o2.shape, h2.shape"
   ]
  },
  {
   "cell_type": "code",
   "execution_count": 23,
   "metadata": {},
   "outputs": [
    {
     "data": {
      "text/plain": [
       "(tensor([[[-0.0595, -0.0595, -0.0595, -0.0595, -0.0595, -0.0595, -0.0595,\n",
       "           -0.0595, -0.0595, -0.0595]]], grad_fn=<TransposeBackward0>),\n",
       " tensor([[-0.0595, -0.0595, -0.0595, -0.0595, -0.0595, -0.0595, -0.0595, -0.0595,\n",
       "          -0.0595, -0.0595]], grad_fn=<MulBackward0>))"
      ]
     },
     "execution_count": 23,
     "metadata": {},
     "output_type": "execute_result"
    }
   ],
   "source": [
    "o1, o2"
   ]
  },
  {
   "cell_type": "code",
   "execution_count": 25,
   "metadata": {},
   "outputs": [
    {
     "data": {
      "text/plain": [
       "(tensor([[[-0.0595, -0.0595, -0.0595, -0.0595, -0.0595, -0.0595, -0.0595,\n",
       "           -0.0595, -0.0595, -0.0595]]], grad_fn=<StackBackward0>),\n",
       " tensor([[-0.1477, -0.1477, -0.1477, -0.1477, -0.1477, -0.1477, -0.1477, -0.1477,\n",
       "          -0.1477, -0.1477]], grad_fn=<AddBackward0>))"
      ]
     },
     "execution_count": 25,
     "metadata": {},
     "output_type": "execute_result"
    }
   ],
   "source": []
  }
 ],
 "metadata": {
  "interpreter": {
   "hash": "d4d1e4263499bec80672ea0156c357c1ee493ec2b1c70f0acce89fc37c4a6abe"
  },
  "kernelspec": {
   "display_name": "Python 3.8.12 ('base')",
   "language": "python",
   "name": "python3"
  },
  "language_info": {
   "codemirror_mode": {
    "name": "ipython",
    "version": 3
   },
   "file_extension": ".py",
   "mimetype": "text/x-python",
   "name": "python",
   "nbconvert_exporter": "python",
   "pygments_lexer": "ipython3",
   "version": "3.8.12"
  },
  "orig_nbformat": 4
 },
 "nbformat": 4,
 "nbformat_minor": 2
}
