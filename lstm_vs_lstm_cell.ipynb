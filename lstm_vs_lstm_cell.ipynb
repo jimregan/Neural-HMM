{
 "cells": [
  {
   "cell_type": "code",
   "execution_count": 1,
   "metadata": {},
   "outputs": [],
   "source": [
    "import torch\n",
    "import torch.nn as nn"
   ]
  },
  {
   "cell_type": "code",
   "execution_count": 2,
   "metadata": {},
   "outputs": [],
   "source": [
    "lstm_cell = nn.LSTMCell(128, 256)\n",
    "lstm = nn.LSTM(128, 256, batch_first=True)"
   ]
  },
  {
   "cell_type": "code",
   "execution_count": 7,
   "metadata": {},
   "outputs": [
    {
     "name": "stdout",
     "output_type": "stream",
     "text": [
      "LSTM Cell\n",
      "weight_ih torch.Size([1024, 128])\n",
      "weight_hh torch.Size([1024, 256])\n",
      "bias_ih torch.Size([1024])\n",
      "bias_hh torch.Size([1024])\n",
      "LSTM\n",
      "weight_ih_l0 torch.Size([1024, 128])\n",
      "weight_hh_l0 torch.Size([1024, 256])\n",
      "bias_ih_l0 torch.Size([1024])\n",
      "bias_hh_l0 torch.Size([1024])\n"
     ]
    }
   ],
   "source": [
    "print(\"LSTM Cell\")\n",
    "for name, param in lstm_cell.named_parameters():\n",
    "    print(name, param.shape)\n",
    "    param.data.new_ones(param.shape)\n",
    "    \n",
    "print(\"LSTM\")\n",
    "for name, param in lstm.named_parameters():\n",
    "    print(name, param.shape)\n",
    "    param.data.new_ones(param.shape)"
   ]
  },
  {
   "cell_type": "code",
   "execution_count": 8,
   "metadata": {},
   "outputs": [
    {
     "data": {
      "text/plain": [
       "Parameter containing:\n",
       "tensor([[ 0.0278,  0.0273, -0.0120,  ...,  0.0552,  0.0099, -0.0510],\n",
       "        [-0.0411,  0.0425, -0.0359,  ..., -0.0597, -0.0164, -0.0348],\n",
       "        [ 0.0454,  0.0566, -0.0466,  ...,  0.0403,  0.0377, -0.0490],\n",
       "        ...,\n",
       "        [-0.0345,  0.0489,  0.0563,  ...,  0.0107,  0.0453,  0.0059],\n",
       "        [ 0.0584,  0.0501,  0.0167,  ...,  0.0289,  0.0157,  0.0215],\n",
       "        [ 0.0313,  0.0517,  0.0368,  ...,  0.0578,  0.0440, -0.0527]],\n",
       "       requires_grad=True)"
      ]
     },
     "execution_count": 8,
     "metadata": {},
     "output_type": "execute_result"
    }
   ],
   "source": [
    "next(lstm_cell.parameters())"
   ]
  },
  {
   "cell_type": "code",
   "execution_count": null,
   "metadata": {},
   "outputs": [],
   "source": []
  }
 ],
 "metadata": {
  "interpreter": {
   "hash": "d4d1e4263499bec80672ea0156c357c1ee493ec2b1c70f0acce89fc37c4a6abe"
  },
  "kernelspec": {
   "display_name": "Python 3.8.12 ('base')",
   "language": "python",
   "name": "python3"
  },
  "language_info": {
   "codemirror_mode": {
    "name": "ipython",
    "version": 3
   },
   "file_extension": ".py",
   "mimetype": "text/x-python",
   "name": "python",
   "nbconvert_exporter": "python",
   "pygments_lexer": "ipython3",
   "version": "3.8.12"
  },
  "orig_nbformat": 4
 },
 "nbformat": 4,
 "nbformat_minor": 2
}
